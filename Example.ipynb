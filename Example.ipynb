{
 "cells": [
  {
   "cell_type": "code",
   "execution_count": 1,
   "metadata": {},
   "outputs": [],
   "source": [
    "import progentrl as gentrl\n",
    "import torch\n",
    "import pandas as pd\n",
    "\n",
    "from tqdm import tqdm_notebook\n",
    "\n",
    "import warnings\n",
    "warnings.simplefilter('ignore')"
   ]
  },
  {
   "cell_type": "code",
   "execution_count": 2,
   "metadata": {},
   "outputs": [],
   "source": [
    "from pytorch_lightning import Trainer"
   ]
  },
  {
   "cell_type": "markdown",
   "metadata": {},
   "source": [
    "# Reward Function\n",
    "This section is for defining the reward function. "
   ]
  },
  {
   "cell_type": "code",
   "execution_count": 3,
   "metadata": {},
   "outputs": [],
   "source": [
    "from moses.metrics import mol_passes_filters, QED, SA, logP\n",
    "from moses.metrics.utils import get_n_rings, get_mol\n",
    "\n",
    "\n",
    "def get_num_rings_6(mol):\n",
    "    r = mol.GetRingInfo()\n",
    "    return len([x for x in r.AtomRings() if len(x) > 6])\n",
    "\n",
    "\n",
    "def penalized_logP(mol_or_smiles, masked=False, default=-5):\n",
    "    mol = get_mol(mol_or_smiles)\n",
    "    if mol is None:\n",
    "        return default\n",
    "    reward = logP(mol) - SA(mol) - get_num_rings_6(mol)\n",
    "    if masked and not mol_passes_filters(mol):\n",
    "        return default\n",
    "    return reward"
   ]
  },
  {
   "cell_type": "code",
   "execution_count": 4,
   "metadata": {},
   "outputs": [],
   "source": [
    "! wget https://media.githubusercontent.com/media/molecularsets/moses/master/data/dataset_v1.csv"
   ]
  },
  {
   "cell_type": "code",
   "execution_count": 5,
   "metadata": {},
   "outputs": [],
   "source": [
    "df = pd.read_csv('dataset_v1.csv')\n",
    "df = df[df['SPLIT'] == 'train']\n",
    "df['plogP'] = df['SMILES'].apply(penalized_logP)\n",
    "df.to_csv('train_plogp_plogpm.csv', index=None)"
   ]
  },
  {
   "cell_type": "code",
   "execution_count": 6,
   "metadata": {},
   "outputs": [],
   "source": [
    "md = gentrl.MolecularDataset(sources=[\n",
    "    {'path':'train_plogp_plogpm.csv',\n",
    "     'smiles': 'SMILES',\n",
    "     'prob': 1,\n",
    "     'plogP' : 'plogP',\n",
    "    }], \n",
    "    props=['plogP'])\n",
    "\n",
    "from torch.utils.data import DataLoader\n",
    "train_loader = DataLoader(md, batch_size=50, shuffle=True, num_workers=1, drop_last=True)"
   ]
  },
  {
   "cell_type": "markdown",
   "metadata": {},
   "source": [
    "# Defining the Encoder, Decoder and Descriptors"
   ]
  },
  {
   "cell_type": "code",
   "execution_count": 7,
   "metadata": {},
   "outputs": [],
   "source": [
    "enc = gentrl.RNNEncoder(latent_size=50)\n",
    "dec = gentrl.DilConvDecoder(latent_input_size=50)\n",
    "latent_descr = 50 * [('c', 20)]\n",
    "feature_descr = [('c', 20)]"
   ]
  },
  {
   "cell_type": "markdown",
   "metadata": {},
   "source": [
    "# Training the VAE (pretrain Step)"
   ]
  },
  {
   "cell_type": "code",
   "execution_count": 8,
   "metadata": {},
   "outputs": [],
   "source": [
    "model = gentrl.gentrlVAE(enc,\n",
    "                         dec,\n",
    "                         train_loader,\n",
    "                         latent_descr,\n",
    "                         feature_descr, load_model='./model/')"
   ]
  },
  {
   "cell_type": "markdown",
   "metadata": {},
   "source": [
    "## Pytorch-Lightning trainer (For more details refer [this](https://pytorch-lightning.readthedocs.io/en/latest/trainer.html) )\n",
    "- max_epochs: maximum Epochs\n",
    "- gpus: No of gpus (-1 means all of them and 0 means cpu)"
   ]
  },
  {
   "cell_type": "code",
   "execution_count": 9,
   "metadata": {},
   "outputs": [
    {
     "name": "stderr",
     "output_type": "stream",
     "text": [
      "GPU available: True, used: True\n",
      "No environment variable for node rank defined. Set as 0.\n",
      "CUDA_VISIBLE_DEVICES: [0]\n"
     ]
    }
   ],
   "source": [
    "trainer = Trainer(max_epochs=20, gpus=-1)"
   ]
  },
  {
   "cell_type": "code",
   "execution_count": 10,
   "metadata": {
    "scrolled": true
   },
   "outputs": [
    {
     "name": "stderr",
     "output_type": "stream",
     "text": [
      "\n",
      "   | Name                 | Type           | Params\n",
      "----------------------------------------------------\n",
      "0  | enc                  | RNNEncoder     | 888 K \n",
      "1  | enc.embs             | Embedding      | 7 K   \n",
      "2  | enc.rnn              | GRU            | 789 K \n",
      "3  | enc.final_mlp        | Sequential     | 91 K  \n",
      "4  | enc.final_mlp.0      | Linear         | 65 K  \n",
      "5  | enc.final_mlp.1      | LeakyReLU      | 0     \n",
      "6  | enc.final_mlp.2      | Linear         | 25 K  \n",
      "7  | dec                  | DilConvDecoder | 596 K \n",
      "8  | dec.latent_fc        | Linear         | 6 K   \n",
      "9  | dec.input_embeddings | Embedding      | 3 K   \n",
      "10 | dec.logits_1x1_layer | Conv1d         | 3 K   \n",
      "11 | dec.parameters       | ParameterList  | 596 K \n",
      "12 | lp                   | LP             | 1 M   \n",
      "13 | lp.parameters        | ParameterList  | 1 M   \n"
     ]
    },
    {
     "data": {
      "application/vnd.jupyter.widget-view+json": {
       "model_id": "40fb4c0cab9a45c89f4db8151e13ace7",
       "version_major": 2,
       "version_minor": 0
      },
      "text/plain": [
       "HBox(children=(FloatProgress(value=1.0, bar_style='info', description='Training', layout=Layout(flex='2'), max…"
      ]
     },
     "metadata": {},
     "output_type": "display_data"
    },
    {
     "name": "stdout",
     "output_type": "stream",
     "text": [
      "\n"
     ]
    },
    {
     "data": {
      "text/plain": [
       "1"
      ]
     },
     "execution_count": 10,
     "metadata": {},
     "output_type": "execute_result"
    }
   ],
   "source": [
    "trainer.fit(model)  # Training the model"
   ]
  },
  {
   "cell_type": "markdown",
   "metadata": {},
   "source": [
    "## Saving the model"
   ]
  },
  {
   "cell_type": "code",
   "execution_count": 11,
   "metadata": {},
   "outputs": [
    {
     "data": {
      "text/plain": [
       "True"
      ]
     },
     "execution_count": 11,
     "metadata": {},
     "output_type": "execute_result"
    }
   ],
   "source": [
    "gentrl.save(model, './model')  # Returns true on successful completion"
   ]
  },
  {
   "cell_type": "markdown",
   "metadata": {},
   "source": [
    "# Reinforcement Learning (train_rl Step)"
   ]
  },
  {
   "cell_type": "code",
   "execution_count": 12,
   "metadata": {},
   "outputs": [],
   "source": [
    "model = gentrl.gentrlRL(penalized_logP, \n",
    "                        enc,\n",
    "                        dec,\n",
    "                        latent_descr,\n",
    "                        feature_descr,\n",
    "                       load_model='./model/')"
   ]
  },
  {
   "cell_type": "code",
   "execution_count": 13,
   "metadata": {},
   "outputs": [
    {
     "name": "stderr",
     "output_type": "stream",
     "text": [
      "GPU available: True, used: True\n",
      "No environment variable for node rank defined. Set as 0.\n",
      "CUDA_VISIBLE_DEVICES: [0]\n"
     ]
    }
   ],
   "source": [
    "trainer = Trainer(max_epochs=10, gpus=-1)"
   ]
  },
  {
   "cell_type": "code",
   "execution_count": 14,
   "metadata": {},
   "outputs": [
    {
     "name": "stderr",
     "output_type": "stream",
     "text": [
      "\n",
      "   | Name                 | Type           | Params\n",
      "----------------------------------------------------\n",
      "0  | enc                  | RNNEncoder     | 888 K \n",
      "1  | enc.embs             | Embedding      | 7 K   \n",
      "2  | enc.rnn              | GRU            | 789 K \n",
      "3  | enc.final_mlp        | Sequential     | 91 K  \n",
      "4  | enc.final_mlp.0      | Linear         | 65 K  \n",
      "5  | enc.final_mlp.1      | LeakyReLU      | 0     \n",
      "6  | enc.final_mlp.2      | Linear         | 25 K  \n",
      "7  | dec                  | DilConvDecoder | 596 K \n",
      "8  | dec.latent_fc        | Linear         | 6 K   \n",
      "9  | dec.input_embeddings | Embedding      | 3 K   \n",
      "10 | dec.logits_1x1_layer | Conv1d         | 3 K   \n",
      "11 | dec.parameters       | ParameterList  | 596 K \n",
      "12 | lp                   | LP             | 1 M   \n",
      "13 | lp.parameters        | ParameterList  | 1 M   \n"
     ]
    },
    {
     "data": {
      "application/vnd.jupyter.widget-view+json": {
       "model_id": "4394e1d50ec14ffdacd75f3a7837077e",
       "version_major": 2,
       "version_minor": 0
      },
      "text/plain": [
       "HBox(children=(FloatProgress(value=1.0, bar_style='info', description='Training', layout=Layout(flex='2'), max…"
      ]
     },
     "metadata": {},
     "output_type": "display_data"
    },
    {
     "name": "stdout",
     "output_type": "stream",
     "text": [
      "\n"
     ]
    },
    {
     "data": {
      "text/plain": [
       "1"
      ]
     },
     "execution_count": 14,
     "metadata": {},
     "output_type": "execute_result"
    }
   ],
   "source": [
    "trainer.fit(model)"
   ]
  },
  {
   "cell_type": "code",
   "execution_count": 15,
   "metadata": {},
   "outputs": [
    {
     "data": {
      "text/plain": [
       "True"
      ]
     },
     "execution_count": 15,
     "metadata": {},
     "output_type": "execute_result"
    }
   ],
   "source": [
    "gentrl.save(model, './model')"
   ]
  },
  {
   "cell_type": "markdown",
   "metadata": {},
   "source": [
    "# Sampling Molecules (Sampling step)"
   ]
  },
  {
   "cell_type": "code",
   "execution_count": 16,
   "metadata": {},
   "outputs": [
    {
     "data": {
      "text/plain": [
       "['O=CCC(=O)(CO)C(N)=C(C)O)Sc1Cl',\n",
       " 'Nc1cc(C)c(C)c1cc(N)c2c2C(=C(CO)N1',\n",
       " 'CC1C(=O)C(C)CC(C#N)N(CO)c2ccccc1Cl',\n",
       " 'CC(Cl)c(C21nc1)=C(C1)c(N=O)(S2C)[c2c=O)C1',\n",
       " 'CC1nc2c1ccnc(N)c2ccc(O)c1',\n",
       " 'CC1c(O)Nc1cn1',\n",
       " 'Cc1nccc(OC(C(CO)C(=O)CC1=C)O=C(C',\n",
       " 'CNCc2c1nc2c2c(NS(C2)nnc2c(c2c1nc2#',\n",
       " 'CC1nc2cc(Cl)ccc2cncnc1N(CC)c2cc(Cl)Cl',\n",
       " 'CCC1(CCC(oC(C)=O)N1']"
      ]
     },
     "execution_count": 16,
     "metadata": {},
     "output_type": "execute_result"
    }
   ],
   "source": [
    "model(10)"
   ]
  },
  {
   "cell_type": "code",
   "execution_count": null,
   "metadata": {},
   "outputs": [],
   "source": []
  }
 ],
 "metadata": {
  "kernelspec": {
   "display_name": "Rdkit_ker",
   "language": "python",
   "name": "rdkit"
  },
  "language_info": {
   "codemirror_mode": {
    "name": "ipython",
    "version": 3
   },
   "file_extension": ".py",
   "mimetype": "text/x-python",
   "name": "python",
   "nbconvert_exporter": "python",
   "pygments_lexer": "ipython3",
   "version": "3.7.4"
  }
 },
 "nbformat": 4,
 "nbformat_minor": 4
}
